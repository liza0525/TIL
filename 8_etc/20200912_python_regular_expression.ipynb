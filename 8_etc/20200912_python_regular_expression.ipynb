{
 "cells": [
  {
   "cell_type": "markdown",
   "metadata": {},
   "source": [
    "# 파이썬 정규표현식\n",
    "> 점프 투 파이썬 내용 정리 및 실습\n",
    "\n",
    "- 파이썬에서 정규표현식을 쓰려면 다음을 설치해야 한다."
   ]
  },
  {
   "cell_type": "code",
   "execution_count": 1,
   "metadata": {},
   "outputs": [],
   "source": [
    "import re"
   ]
  },
  {
   "cell_type": "markdown",
   "metadata": {},
   "source": [
    "## 정규식 표현\n",
    "```python\n",
    ". ^ $ * + ? { } [ ] \\ | ( )\n",
    "```"
   ]
  },
  {
   "cell_type": "markdown",
   "metadata": {},
   "source": [
    "### 문자 클래스 [ ]\n",
    "- 안에 들어 있는 문자와의 매치\n",
    "  - `[abc]`는 a와 매치, before와 매치, dude와 매치 x (문자가 한 개가 같으면 매치)\n",
    "      - 같은 문자가 2개 이상인 경우에는 맨 앞의 문자만 매치\n",
    "  - `-` : 하이픈은 두 문자 사이의 범위를 의미 `a-z`면 a부터 z 사이의 모든 문자. `0-3`이면 `[0123]을 의미. `[a-zA-Z]`은 알파벳 모두\n",
    "  - `-` : 하이픈은 두 문자 사이의 범위를 의미 `a-z`면 a부터 z 사이의 모든 문자. `0-3`이면 `[0123]을 의미. `[a-zA-Z]`은 알파벳 모두\n",
    "  - `^` : not의 의미 문자 클래스 내의 문자가 없어야 한다. `[^0-9]`는 숫자 아닌 문자만 매치"
   ]
  },
  {
   "cell_type": "code",
   "execution_count": 2,
   "metadata": {},
   "outputs": [
    {
     "name": "stdout",
     "output_type": "stream",
     "text": [
      "<re.Match object; span=(0, 1), match='a'>\n",
      "<re.Match object; span=(0, 1), match='b'>\n",
      "None\n",
      "<re.Match object; span=(0, 1), match='a'>\n"
     ]
    }
   ],
   "source": [
    "abc_parser = re.compile('[abc]')\n",
    "str1 = 'a'\n",
    "str2 = 'before'\n",
    "str3 = 'dude'\n",
    "str4 = 'absent'\n",
    "\n",
    "print(abc_parser.match(str1))\n",
    "print(abc_parser.match(str2))\n",
    "print(abc_parser.match(str3)) # 매치가 되지 않는 경우에는 None 타입 반환\n",
    "print(abc_parser.match(str4))"
   ]
  },
  {
   "cell_type": "code",
   "execution_count": 3,
   "metadata": {
    "scrolled": true
   },
   "outputs": [
    {
     "name": "stdout",
     "output_type": "stream",
     "text": [
      "<re.Match object; span=(0, 1), match='p'>\n",
      "None\n",
      "<re.Match object; span=(0, 1), match='p'>\n"
     ]
    }
   ],
   "source": [
    "alphbet_parser = re.compile('[a-zA-Z]')\n",
    "num_parser = re.compile('[0-9]')\n",
    "not_num_parser = re.compile('[^0-9]')\n",
    "\n",
    "print(alphbet_parser.match('python'))\n",
    "print(num_parser.match('python'))\n",
    "print(not_num_parser.match('python'))"
   ]
  },
  {
   "cell_type": "markdown",
   "metadata": {},
   "source": [
    "### Dot(.)\n",
    "- 줄바꿈 문자 `\\n`을 제외한 모든 문자와 매치"
   ]
  },
  {
   "cell_type": "code",
   "execution_count": 4,
   "metadata": {},
   "outputs": [
    {
     "name": "stdout",
     "output_type": "stream",
     "text": [
      "None\n",
      "<re.Match object; span=(0, 3), match='a0b'>\n",
      "<re.Match object; span=(0, 3), match='acb'>\n",
      "<re.Match object; span=(0, 3), match='a#b'>\n"
     ]
    }
   ],
   "source": [
    "dot_parser = re.compile('a.b')\n",
    "\n",
    "print(dot_parser.match('ab'))\n",
    "print(dot_parser.match('a0b'))\n",
    "print(dot_parser.match('acb'))\n",
    "print(dot_parser.match('a#b'))"
   ]
  },
  {
   "cell_type": "markdown",
   "metadata": {},
   "source": [
    "- 아래 예시는 문자 클래스 내에 dot string이 있으므로, 문자 그대로의 dot을 의미\n",
    "- 따라서 a와 b사이에 dot이 반드시 있어야 매치가 됨"
   ]
  },
  {
   "cell_type": "code",
   "execution_count": 5,
   "metadata": {
    "scrolled": false
   },
   "outputs": [
    {
     "name": "stdout",
     "output_type": "stream",
     "text": [
      "None\n",
      "None\n",
      "None\n",
      "None\n",
      "<re.Match object; span=(0, 3), match='a.b'>\n"
     ]
    }
   ],
   "source": [
    "dot_str_parser = re.compile('a[.]b')\n",
    "\n",
    "print(dot_str_parser.match('ab'))\n",
    "print(dot_str_parser.match('a0b'))\n",
    "print(dot_str_parser.match('acb'))\n",
    "print(dot_str_parser.match('a#b'))\n",
    "print(dot_str_parser.match('a.b'))"
   ]
  },
  {
   "cell_type": "markdown",
   "metadata": {},
   "source": [
    "### 반복(*)\n",
    "\n",
    "- 바로 앞에 있는 숫자가 0개부터 무한대(사실상 메모리 제한으로 2억 개)로 반복"
   ]
  },
  {
   "cell_type": "code",
   "execution_count": 6,
   "metadata": {
    "scrolled": false
   },
   "outputs": [
    {
     "name": "stdout",
     "output_type": "stream",
     "text": [
      "<re.Match object; span=(0, 2), match='ct'>\n",
      "<re.Match object; span=(0, 3), match='cat'>\n",
      "<re.Match object; span=(0, 10), match='caaaaaaaat'>\n",
      "<re.Match object; span=(0, 16), match='caaaaaaaaaaaaaat'>\n",
      "None\n"
     ]
    }
   ],
   "source": [
    "star_parser = re.compile('ca*t')\n",
    "\n",
    "print(star_parser.match('ct')) # 반복 횟수가 0이어도 매치\n",
    "print(star_parser.match('cat'))\n",
    "print(star_parser.match('caaaaaaaat'))\n",
    "print(star_parser.match('caaaaaaaaaaaaaat'))\n",
    "print(star_parser.match('cabt')) # 반복 되지 않는 문자 때문에 매치가 되지 않음."
   ]
  },
  {
   "cell_type": "markdown",
   "metadata": {},
   "source": [
    "### 반복 (+)\n",
    "- 반복 횟수가 최소 1부터라는 점이 * 표현과 차이가 있다."
   ]
  },
  {
   "cell_type": "code",
   "execution_count": 7,
   "metadata": {
    "scrolled": true
   },
   "outputs": [
    {
     "name": "stdout",
     "output_type": "stream",
     "text": [
      "None\n",
      "<re.Match object; span=(0, 3), match='cat'>\n",
      "<re.Match object; span=(0, 10), match='caaaaaaaat'>\n",
      "None\n"
     ]
    }
   ],
   "source": [
    "plus_parser = re.compile('ca+t')\n",
    "\n",
    "print(plus_parser.match('ct')) # 반복 횟수가 0이어서 매치가 되지 않음\n",
    "print(plus_parser.match('cat')) # 최소 1번 이상 반복해야 매치\n",
    "print(plus_parser.match('caaaaaaaat'))\n",
    "print(plus_parser.match('cabt')) # 반복 되지 않는 문자 때문에 매치가 되지 않음."
   ]
  },
  {
   "cell_type": "markdown",
   "metadata": {},
   "source": [
    "### 반복 ({m, n}, ?)\n",
    "- 반복 횟수를 제한할 수 있다.\n",
    "- `{m}` : m번 반복했을 때만 매치\n",
    "- `{m,n}` : (m~n)번 반복했을 때 매치\n",
    "- `{m,}` : (m~무한대)번 반복했을 때만 매치\n",
    "    - `{1,}`은 `+`와 동일하고 `{0, }`은 `*`와 동일\n",
    "- `{,n}` : (0~n)번 반복했을 때만 매치"
   ]
  },
  {
   "cell_type": "code",
   "execution_count": 8,
   "metadata": {},
   "outputs": [
    {
     "name": "stdout",
     "output_type": "stream",
     "text": [
      "None\n",
      "<re.Match object; span=(0, 5), match='caaat'>\n",
      "None\n"
     ]
    }
   ],
   "source": [
    "repeat_parser1 = re.compile('ca{3}t')\n",
    "\n",
    "print(repeat_parser1.match('cat'))\n",
    "print(repeat_parser1.match('caaat'))\n",
    "print(repeat_parser1.match('caaaaat'))"
   ]
  },
  {
   "cell_type": "code",
   "execution_count": 9,
   "metadata": {},
   "outputs": [
    {
     "name": "stdout",
     "output_type": "stream",
     "text": [
      "None\n",
      "<re.Match object; span=(0, 5), match='caaat'>\n",
      "<re.Match object; span=(0, 7), match='caaaaat'>\n",
      "<re.Match object; span=(0, 9), match='caaaaaaat'>\n"
     ]
    }
   ],
   "source": [
    "repeat_parser2 = re.compile('ca{3,}t')\n",
    "\n",
    "print(repeat_parser2.match('cat'))\n",
    "print(repeat_parser2.match('caaat'))\n",
    "print(repeat_parser2.match('caaaaat'))\n",
    "print(repeat_parser2.match('caaaaaaat'))"
   ]
  },
  {
   "cell_type": "code",
   "execution_count": 10,
   "metadata": {},
   "outputs": [
    {
     "name": "stdout",
     "output_type": "stream",
     "text": [
      "None\n",
      "<re.Match object; span=(0, 5), match='caaat'>\n",
      "<re.Match object; span=(0, 7), match='caaaaat'>\n",
      "None\n"
     ]
    }
   ],
   "source": [
    "repeat_parser3 = re.compile('ca{3,5}t')\n",
    "\n",
    "print(repeat_parser3.match('cat'))\n",
    "print(repeat_parser3.match('caaat'))\n",
    "print(repeat_parser3.match('caaaaat'))\n",
    "print(repeat_parser3.match('caaaaaaat'))"
   ]
  },
  {
   "cell_type": "code",
   "execution_count": 11,
   "metadata": {
    "scrolled": true
   },
   "outputs": [
    {
     "name": "stdout",
     "output_type": "stream",
     "text": [
      "<re.Match object; span=(0, 3), match='cat'>\n",
      "<re.Match object; span=(0, 5), match='caaat'>\n",
      "<re.Match object; span=(0, 7), match='caaaaat'>\n",
      "None\n"
     ]
    }
   ],
   "source": [
    "repeat_parser4 = re.compile('ca{,5}t')\n",
    "\n",
    "print(repeat_parser4.match('cat'))\n",
    "print(repeat_parser4.match('caaat'))\n",
    "print(repeat_parser4.match('caaaaat'))\n",
    "print(repeat_parser4.match('caaaaaaat'))"
   ]
  },
  {
   "cell_type": "markdown",
   "metadata": {},
   "source": [
    "- `?` : 반복은 아니지만 비슷한 개념. 있어도 되고 없어도 된다의 의미. 즉 `{0,1}`와 동일."
   ]
  },
  {
   "cell_type": "code",
   "execution_count": 12,
   "metadata": {
    "scrolled": true
   },
   "outputs": [
    {
     "name": "stdout",
     "output_type": "stream",
     "text": [
      "<re.Match object; span=(0, 2), match='ct'>\n",
      "<re.Match object; span=(0, 3), match='cat'>\n",
      "<re.Match object; span=(0, 5), match='caaat'>\n"
     ]
    }
   ],
   "source": [
    "qust_parser = re.compile('ca?t')\n",
    "\n",
    "print(repeat_parser4.match('ct'))\n",
    "print(repeat_parser4.match('cat'))\n",
    "print(repeat_parser4.match('caaat'))"
   ]
  },
  {
   "cell_type": "markdown",
   "metadata": {},
   "source": [
    "## 문자열 검색\n",
    "> 컴파일된 패턴 객체를 사용하여 문자열을 검색\n",
    "\n",
    "### match()\n",
    "- 문자열의 처음부터 정규식과 매치되는지 조사"
   ]
  },
  {
   "cell_type": "code",
   "execution_count": 13,
   "metadata": {},
   "outputs": [],
   "source": [
    "p = re.compile('[a-z]+') # 모든 영어 단어를 표현하는 정규식"
   ]
  },
  {
   "cell_type": "code",
   "execution_count": 14,
   "metadata": {},
   "outputs": [
    {
     "name": "stdout",
     "output_type": "stream",
     "text": [
      "<re.Match object; span=(0, 6), match='python'>\n",
      "<re.Match object; span=(0, 6), match='python'>\n",
      "None\n"
     ]
    }
   ],
   "source": [
    "print(p.match('python'))\n",
    "print(p.match('python3'))\n",
    "print(p.match('3python')) # 처음에 알파벳이 아닌 숫자가 나오므로 매치가 되지 않음"
   ]
  },
  {
   "cell_type": "markdown",
   "metadata": {},
   "source": [
    "- `group()` : 매칭 되는 문자열 반환"
   ]
  },
  {
   "cell_type": "code",
   "execution_count": 15,
   "metadata": {},
   "outputs": [
    {
     "name": "stdout",
     "output_type": "stream",
     "text": [
      "Match found:  she\n"
     ]
    }
   ],
   "source": [
    "m = p.match( 'she goes there' )\n",
    "if m:\n",
    "    print('Match found: ', m.group())\n",
    "else:\n",
    "    print('No match')"
   ]
  },
  {
   "cell_type": "markdown",
   "metadata": {},
   "source": [
    "### search()\n",
    "- 컴파일된 패턴 객체가 문자열 내에 존재하는지 파악\n",
    "- match()와의 차이점은 match()는 문자열의 처음부터만 검색하지만, search()는 모든 문자열을 검색\n",
    "- 매치된 문자열의 index 범위를 span으로 표현"
   ]
  },
  {
   "cell_type": "code",
   "execution_count": 16,
   "metadata": {
    "scrolled": true
   },
   "outputs": [
    {
     "name": "stdout",
     "output_type": "stream",
     "text": [
      "<re.Match object; span=(0, 6), match='python'>\n",
      "<re.Match object; span=(1, 7), match='python'>\n"
     ]
    }
   ],
   "source": [
    "print(p.search('python'))\n",
    "print(p.search('3python'))"
   ]
  },
  {
   "cell_type": "markdown",
   "metadata": {},
   "source": [
    "### findall()\n",
    "- 컴파일된 패턴 객체와 매칭되는 모든 문자열을 list 형식으로 반환"
   ]
  },
  {
   "cell_type": "code",
   "execution_count": 17,
   "metadata": {
    "scrolled": true
   },
   "outputs": [
    {
     "name": "stdout",
     "output_type": "stream",
     "text": [
      "['life', 'is', 'too', 'short']\n"
     ]
    }
   ],
   "source": [
    "m = 'life is too short'\n",
    "print(p.findall(m))"
   ]
  },
  {
   "cell_type": "markdown",
   "metadata": {},
   "source": [
    "### finditer()\n",
    "- findall()과 수행 결과는 같지만, 그 결과로 iterator object로 반환한다. iterator object의 요소는 match 객체다."
   ]
  },
  {
   "cell_type": "code",
   "execution_count": 18,
   "metadata": {
    "scrolled": false
   },
   "outputs": [
    {
     "name": "stdout",
     "output_type": "stream",
     "text": [
      "iter_obj <callable_iterator object at 0x000001843F3D28E0>\n",
      "============================================================\n",
      "obj <re.Match object; span=(0, 4), match='life'>\n",
      "type of obj <class 're.Match'>\n",
      "------------------------------------------------------------\n",
      "obj <re.Match object; span=(5, 7), match='is'>\n",
      "type of obj <class 're.Match'>\n",
      "------------------------------------------------------------\n",
      "obj <re.Match object; span=(8, 11), match='too'>\n",
      "type of obj <class 're.Match'>\n",
      "------------------------------------------------------------\n",
      "obj <re.Match object; span=(12, 17), match='short'>\n",
      "type of obj <class 're.Match'>\n",
      "------------------------------------------------------------\n"
     ]
    }
   ],
   "source": [
    "m = 'life is too short'\n",
    "iter_obj = p.finditer(m)\n",
    "print('iter_obj', iter_obj)\n",
    "print('='*60)\n",
    "for obj in iter_obj:\n",
    "    print('obj', obj) # match 객체 내용\n",
    "    print('type of obj', type(obj)) # match type임을 확인\n",
    "    print('-'*60)"
   ]
  },
  {
   "cell_type": "markdown",
   "metadata": {},
   "source": [
    "## match 객체의 메서드\n",
    "- match 객체를 반환받은 후, 그 객체 내의 정보를 결과로 반환한다.\n",
    "    - group(): 매치된 문자열 반환\n",
    "    - start(): 매치된 문자열의 시작 위치 반환\n",
    "    - end(): 매치된 문자열의 끝 위치 반환\n",
    "    - span(): 매치된 문자열의 시작과 끝 위치를 튜플로 반환\n",
    "- match와 search의 차이점에 의한 각 메서드의 반환 값 변화도 확인해보자."
   ]
  },
  {
   "cell_type": "code",
   "execution_count": 19,
   "metadata": {},
   "outputs": [
    {
     "name": "stdout",
     "output_type": "stream",
     "text": [
      "life\n",
      "0\n",
      "4\n",
      "(0, 4)\n"
     ]
    }
   ],
   "source": [
    "sentence = p.match('life is too short')\n",
    "print(sentence.group())\n",
    "print(sentence.start())\n",
    "print(sentence.end())\n",
    "print(sentence.span())"
   ]
  },
  {
   "cell_type": "markdown",
   "metadata": {},
   "source": [
    "## 컴파일 옵션\n",
    "- DOTALL(S) - `.`이 줄바꿈 문자를 포함하여 모든 문자와 매치하도록 함\n",
    "- IGNORECASE(I) - 대소문자에 관계없이 매치\n",
    "- MULTILINE(M) - 여러줄과 매치할 수 있도록 함. (`^`, `$` 메타 문자의 사용과 관계 있음)\n",
    "- VERBOSE(X) - verbose 모드를 사용(정규식을 보기 편하게 만들고, 주석 달기 가능)\n",
    "\n",
    "> 옵션 사용시 re.DOTALL을 써도 되고 re.S를 써도 된다."
   ]
  },
  {
   "cell_type": "code",
   "execution_count": 20,
   "metadata": {
    "scrolled": true
   },
   "outputs": [
    {
     "name": "stdout",
     "output_type": "stream",
     "text": [
      "None\n"
     ]
    }
   ],
   "source": [
    "# 옵션 적용 안했을 때\n",
    "p = re.compile('a.b')\n",
    "m = p.match('a\\nb')\n",
    "print(m)"
   ]
  },
  {
   "cell_type": "code",
   "execution_count": 21,
   "metadata": {
    "scrolled": true
   },
   "outputs": [
    {
     "name": "stdout",
     "output_type": "stream",
     "text": [
      "<re.Match object; span=(0, 3), match='a\\nb'>\n"
     ]
    }
   ],
   "source": [
    "# DOTALL 옵션 적용\n",
    "p = re.compile('a.b', re.DOTALL) # re.S를 써도 무방\n",
    "m = p.match('a\\nb')\n",
    "print(m)"
   ]
  },
  {
   "cell_type": "code",
   "execution_count": 22,
   "metadata": {
    "scrolled": false
   },
   "outputs": [
    {
     "name": "stdout",
     "output_type": "stream",
     "text": [
      "<re.Match object; span=(0, 6), match='python'>\n",
      "<re.Match object; span=(0, 6), match='Python'>\n",
      "<re.Match object; span=(0, 6), match='PYTHON'>\n"
     ]
    }
   ],
   "source": [
    "# IGNORECASE 옵션 적용\n",
    "p = re.compile('[a-z]+', re.IGNORECASE) # re.I를 써도 무방\n",
    "print(p.match('python'))\n",
    "print(p.match('Python'))\n",
    "print(p.match('PYTHON'))"
   ]
  },
  {
   "cell_type": "code",
   "execution_count": 23,
   "metadata": {},
   "outputs": [
    {
     "name": "stdout",
     "output_type": "stream",
     "text": [
      "['python one', 'python two', 'python three']\n"
     ]
    }
   ],
   "source": [
    "# MULTILINE 옵션 적용\n",
    "p = re.compile('^python\\s\\w+', re.MULTILINE) # re.M를 써도 무방\n",
    "# ^python\\s\\w+ : python으로 문자열이 시작되고, 뒤에 whitespace, 그 뒤에 단어가 와야 함을 의미\n",
    "data = \"\"\"python one\n",
    "life is too short\n",
    "python two\n",
    "you need python\n",
    "python three\"\"\"\n",
    "\n",
    "print(p.findall(data))"
   ]
  },
  {
   "cell_type": "markdown",
   "metadata": {},
   "source": [
    "- 문자 클래스에서 쓰는 `^`와 일반적인 `^`는 의미가 다르다.\n",
    "    - 문자 클래스의 `^` : not의 의미\n",
    "    - 일반적인 `^`: 해당 문자열을 시작으로 한다는 의미"
   ]
  },
  {
   "cell_type": "code",
   "execution_count": 24,
   "metadata": {},
   "outputs": [],
   "source": [
    "# VERBOSE 옵션 적용 안 했을 시\n",
    "charref = re.compile(r'&[#](0[0-7]+|[0-9]+|x[0-9a-fA-F]+);')\n",
    "# 이해하기 복잡하다."
   ]
  },
  {
   "cell_type": "code",
   "execution_count": 25,
   "metadata": {},
   "outputs": [],
   "source": [
    "# VERBOSE 옵션 적용\n",
    "charref = re.compile(r\"\"\"\n",
    " &[#]                # Start of a numeric entity reference\n",
    " (\n",
    "     0[0-7]+         # Octal form\n",
    "   | [0-9]+          # Decimal form\n",
    "   | x[0-9a-fA-F]+   # Hexadecimal form\n",
    " )\n",
    " ;                   # Trailing semicolon\n",
    "\"\"\", re.VERBOSE)"
   ]
  },
  {
   "cell_type": "markdown",
   "metadata": {},
   "source": [
    "## 정규식의 백슬래시\n",
    "> 정규 표현식에서 백슬래시는 혼란의 요소\n",
    "\n",
    "- ex) `'\\section'`이라는 문자열을 찾기 위한 정규식\n",
    "    - `\\s`의 의미는 whitespace로 해석됨(Escape String임)\n",
    "    - `\\\\section`이라고 하여 백슬래시 자체가 문자임을 표현\n",
    "    - 하지만 파이썬 정규식 엔진에서는 파이썬 문자열 리터럴 규칙에 따라 `\\\\`가 `\\`로 변경되어 `\\section`(문자열 아님, 실제로 존재하지 않지만 이런 형식의 Escape String)으로 전달이 된다.\n",
    "    - 원하는대로 표현하려면 `\\\\\\\\section`로 표현해야 한다는 불편함이 있다.\n",
    "    - 이를 보다 편하기 표현하기 위해 Raw String임을 표현해줘야 한다.\n",
    "    `r'\\\\section'`라고 표현하면 된다."
   ]
  },
  {
   "cell_type": "code",
   "execution_count": 26,
   "metadata": {},
   "outputs": [],
   "source": [
    "p = re.compile(r'\\\\section')"
   ]
  }
 ],
 "metadata": {
  "kernelspec": {
   "display_name": "Python 3",
   "language": "python",
   "name": "python3"
  },
  "language_info": {
   "codemirror_mode": {
    "name": "ipython",
    "version": 3
   },
   "file_extension": ".py",
   "mimetype": "text/x-python",
   "name": "python",
   "nbconvert_exporter": "python",
   "pygments_lexer": "ipython3",
   "version": "3.8.3"
  }
 },
 "nbformat": 4,
 "nbformat_minor": 4
}
